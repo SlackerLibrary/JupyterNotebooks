{
 "cells": [
  {
   "cell_type": "markdown",
   "metadata": {},
   "source": [
    "# The Great Analyzer"
   ]
  },
  {
   "cell_type": "markdown",
   "metadata": {},
   "source": [
    "##### This notebook is designed to be a starting point in training, evaluating, and tuning algorithms for a binary classification machine learning problem."
   ]
  },
  {
   "cell_type": "markdown",
   "metadata": {},
   "source": [
    "### Import Libraries\n",
    "It is necessary to import the basic libraries for cleaning and munging to start off with. Other import statements will come with each algorithm as it is initialized."
   ]
  },
  {
   "cell_type": "code",
   "execution_count": 1,
   "metadata": {
    "collapsed": true
   },
   "outputs": [],
   "source": [
    "import pandas as pd\n",
    "import numpy as np\n",
    "import matplotlib.pyplot as plt\n",
    "plt.style.use('dark_background') # this setting is for my jupyter environment specifically."
   ]
  },
  {
   "cell_type": "markdown",
   "metadata": {},
   "source": [
    "## Data Preparation"
   ]
  },
  {
   "cell_type": "markdown",
   "metadata": {},
   "source": [
    "This stage will not be automated here. What follows is an example data prep on a data set from a machine learning repository. Data preparation for an actual problem will likely involve a greater number of transformations and thus, is beyond the scope of this notebook.\n",
    "\n",
    "Four objects should be created in this stage that can pass to the algorithm building stage:\n",
    "* X_train: an *m* x *k* array of *k* non-covariant features where *m* is 60-80% of *n* (number of data points in original dataset)\n",
    "* X_test: an *l* x *k* array of *k* non-covariant features where *l* is 20-40% of *n*\n",
    "* y_train: an *m* x 1 vector of integer-encoded class labels\n",
    "* y_test: an *l* x 1 vector of integer-encoded class labels"
   ]
  },
  {
   "cell_type": "markdown",
   "metadata": {},
   "source": [
    "### Import the data"
   ]
  },
  {
   "cell_type": "code",
   "execution_count": 2,
   "metadata": {
    "collapsed": false
   },
   "outputs": [
    {
     "data": {
      "text/html": [
       "<div>\n",
       "<table border=\"1\" class=\"dataframe\">\n",
       "  <thead>\n",
       "    <tr style=\"text-align: right;\">\n",
       "      <th></th>\n",
       "      <th>Age</th>\n",
       "      <th>Work Class</th>\n",
       "      <th>Census Sampling Weight</th>\n",
       "      <th>Education</th>\n",
       "      <th>Education-numeric</th>\n",
       "      <th>Marital Status</th>\n",
       "      <th>Occupation</th>\n",
       "      <th>Relationship</th>\n",
       "      <th>Race</th>\n",
       "      <th>Sex</th>\n",
       "      <th>Capital Gain</th>\n",
       "      <th>Capital Loss</th>\n",
       "      <th>Hours per week</th>\n",
       "      <th>Native Country</th>\n",
       "      <th>50k</th>\n",
       "    </tr>\n",
       "  </thead>\n",
       "  <tbody>\n",
       "    <tr>\n",
       "      <th>0</th>\n",
       "      <td>50</td>\n",
       "      <td>Self-emp-not-inc</td>\n",
       "      <td>83311</td>\n",
       "      <td>Bachelors</td>\n",
       "      <td>13</td>\n",
       "      <td>Married-civ-spouse</td>\n",
       "      <td>Exec-managerial</td>\n",
       "      <td>Husband</td>\n",
       "      <td>White</td>\n",
       "      <td>Male</td>\n",
       "      <td>0</td>\n",
       "      <td>0</td>\n",
       "      <td>13</td>\n",
       "      <td>United-States</td>\n",
       "      <td>&lt;=50K</td>\n",
       "    </tr>\n",
       "    <tr>\n",
       "      <th>1</th>\n",
       "      <td>38</td>\n",
       "      <td>Private</td>\n",
       "      <td>215646</td>\n",
       "      <td>HS-grad</td>\n",
       "      <td>9</td>\n",
       "      <td>Divorced</td>\n",
       "      <td>Handlers-cleaners</td>\n",
       "      <td>Not-in-family</td>\n",
       "      <td>White</td>\n",
       "      <td>Male</td>\n",
       "      <td>0</td>\n",
       "      <td>0</td>\n",
       "      <td>40</td>\n",
       "      <td>United-States</td>\n",
       "      <td>&lt;=50K</td>\n",
       "    </tr>\n",
       "    <tr>\n",
       "      <th>2</th>\n",
       "      <td>53</td>\n",
       "      <td>Private</td>\n",
       "      <td>234721</td>\n",
       "      <td>11th</td>\n",
       "      <td>7</td>\n",
       "      <td>Married-civ-spouse</td>\n",
       "      <td>Handlers-cleaners</td>\n",
       "      <td>Husband</td>\n",
       "      <td>Black</td>\n",
       "      <td>Male</td>\n",
       "      <td>0</td>\n",
       "      <td>0</td>\n",
       "      <td>40</td>\n",
       "      <td>United-States</td>\n",
       "      <td>&lt;=50K</td>\n",
       "    </tr>\n",
       "    <tr>\n",
       "      <th>3</th>\n",
       "      <td>28</td>\n",
       "      <td>Private</td>\n",
       "      <td>338409</td>\n",
       "      <td>Bachelors</td>\n",
       "      <td>13</td>\n",
       "      <td>Married-civ-spouse</td>\n",
       "      <td>Prof-specialty</td>\n",
       "      <td>Wife</td>\n",
       "      <td>Black</td>\n",
       "      <td>Female</td>\n",
       "      <td>0</td>\n",
       "      <td>0</td>\n",
       "      <td>40</td>\n",
       "      <td>Cuba</td>\n",
       "      <td>&lt;=50K</td>\n",
       "    </tr>\n",
       "    <tr>\n",
       "      <th>4</th>\n",
       "      <td>37</td>\n",
       "      <td>Private</td>\n",
       "      <td>284582</td>\n",
       "      <td>Masters</td>\n",
       "      <td>14</td>\n",
       "      <td>Married-civ-spouse</td>\n",
       "      <td>Exec-managerial</td>\n",
       "      <td>Wife</td>\n",
       "      <td>White</td>\n",
       "      <td>Female</td>\n",
       "      <td>0</td>\n",
       "      <td>0</td>\n",
       "      <td>40</td>\n",
       "      <td>United-States</td>\n",
       "      <td>&lt;=50K</td>\n",
       "    </tr>\n",
       "    <tr>\n",
       "      <th>5</th>\n",
       "      <td>49</td>\n",
       "      <td>Private</td>\n",
       "      <td>160187</td>\n",
       "      <td>9th</td>\n",
       "      <td>5</td>\n",
       "      <td>Married-spouse-absent</td>\n",
       "      <td>Other-service</td>\n",
       "      <td>Not-in-family</td>\n",
       "      <td>Black</td>\n",
       "      <td>Female</td>\n",
       "      <td>0</td>\n",
       "      <td>0</td>\n",
       "      <td>16</td>\n",
       "      <td>Jamaica</td>\n",
       "      <td>&lt;=50K</td>\n",
       "    </tr>\n",
       "    <tr>\n",
       "      <th>6</th>\n",
       "      <td>52</td>\n",
       "      <td>Self-emp-not-inc</td>\n",
       "      <td>209642</td>\n",
       "      <td>HS-grad</td>\n",
       "      <td>9</td>\n",
       "      <td>Married-civ-spouse</td>\n",
       "      <td>Exec-managerial</td>\n",
       "      <td>Husband</td>\n",
       "      <td>White</td>\n",
       "      <td>Male</td>\n",
       "      <td>0</td>\n",
       "      <td>0</td>\n",
       "      <td>45</td>\n",
       "      <td>United-States</td>\n",
       "      <td>&gt;50K</td>\n",
       "    </tr>\n",
       "    <tr>\n",
       "      <th>7</th>\n",
       "      <td>31</td>\n",
       "      <td>Private</td>\n",
       "      <td>45781</td>\n",
       "      <td>Masters</td>\n",
       "      <td>14</td>\n",
       "      <td>Never-married</td>\n",
       "      <td>Prof-specialty</td>\n",
       "      <td>Not-in-family</td>\n",
       "      <td>White</td>\n",
       "      <td>Female</td>\n",
       "      <td>14084</td>\n",
       "      <td>0</td>\n",
       "      <td>50</td>\n",
       "      <td>United-States</td>\n",
       "      <td>&gt;50K</td>\n",
       "    </tr>\n",
       "    <tr>\n",
       "      <th>8</th>\n",
       "      <td>42</td>\n",
       "      <td>Private</td>\n",
       "      <td>159449</td>\n",
       "      <td>Bachelors</td>\n",
       "      <td>13</td>\n",
       "      <td>Married-civ-spouse</td>\n",
       "      <td>Exec-managerial</td>\n",
       "      <td>Husband</td>\n",
       "      <td>White</td>\n",
       "      <td>Male</td>\n",
       "      <td>5178</td>\n",
       "      <td>0</td>\n",
       "      <td>40</td>\n",
       "      <td>United-States</td>\n",
       "      <td>&gt;50K</td>\n",
       "    </tr>\n",
       "    <tr>\n",
       "      <th>9</th>\n",
       "      <td>37</td>\n",
       "      <td>Private</td>\n",
       "      <td>280464</td>\n",
       "      <td>Some-college</td>\n",
       "      <td>10</td>\n",
       "      <td>Married-civ-spouse</td>\n",
       "      <td>Exec-managerial</td>\n",
       "      <td>Husband</td>\n",
       "      <td>Black</td>\n",
       "      <td>Male</td>\n",
       "      <td>0</td>\n",
       "      <td>0</td>\n",
       "      <td>80</td>\n",
       "      <td>United-States</td>\n",
       "      <td>&gt;50K</td>\n",
       "    </tr>\n",
       "  </tbody>\n",
       "</table>\n",
       "</div>"
      ],
      "text/plain": [
       "   Age         Work Class  Census Sampling Weight      Education  \\\n",
       "0   50   Self-emp-not-inc                   83311      Bachelors   \n",
       "1   38            Private                  215646        HS-grad   \n",
       "2   53            Private                  234721           11th   \n",
       "3   28            Private                  338409      Bachelors   \n",
       "4   37            Private                  284582        Masters   \n",
       "5   49            Private                  160187            9th   \n",
       "6   52   Self-emp-not-inc                  209642        HS-grad   \n",
       "7   31            Private                   45781        Masters   \n",
       "8   42            Private                  159449      Bachelors   \n",
       "9   37            Private                  280464   Some-college   \n",
       "\n",
       "   Education-numeric          Marital Status          Occupation  \\\n",
       "0                 13      Married-civ-spouse     Exec-managerial   \n",
       "1                  9                Divorced   Handlers-cleaners   \n",
       "2                  7      Married-civ-spouse   Handlers-cleaners   \n",
       "3                 13      Married-civ-spouse      Prof-specialty   \n",
       "4                 14      Married-civ-spouse     Exec-managerial   \n",
       "5                  5   Married-spouse-absent       Other-service   \n",
       "6                  9      Married-civ-spouse     Exec-managerial   \n",
       "7                 14           Never-married      Prof-specialty   \n",
       "8                 13      Married-civ-spouse     Exec-managerial   \n",
       "9                 10      Married-civ-spouse     Exec-managerial   \n",
       "\n",
       "     Relationship    Race      Sex  Capital Gain  Capital Loss  \\\n",
       "0         Husband   White     Male             0             0   \n",
       "1   Not-in-family   White     Male             0             0   \n",
       "2         Husband   Black     Male             0             0   \n",
       "3            Wife   Black   Female             0             0   \n",
       "4            Wife   White   Female             0             0   \n",
       "5   Not-in-family   Black   Female             0             0   \n",
       "6         Husband   White     Male             0             0   \n",
       "7   Not-in-family   White   Female         14084             0   \n",
       "8         Husband   White     Male          5178             0   \n",
       "9         Husband   Black     Male             0             0   \n",
       "\n",
       "   Hours per week  Native Country     50k  \n",
       "0              13   United-States   <=50K  \n",
       "1              40   United-States   <=50K  \n",
       "2              40   United-States   <=50K  \n",
       "3              40            Cuba   <=50K  \n",
       "4              40   United-States   <=50K  \n",
       "5              16         Jamaica   <=50K  \n",
       "6              45   United-States    >50K  \n",
       "7              50   United-States    >50K  \n",
       "8              40   United-States    >50K  \n",
       "9              80   United-States    >50K  "
      ]
     },
     "execution_count": 2,
     "metadata": {},
     "output_type": "execute_result"
    }
   ],
   "source": [
    "df_adults = pd.read_csv(r'http://archive.ics.uci.edu/ml/machine-learning-databases/adult/adult.data')\n",
    "\n",
    "df_adults.columns = ['Age', 'Work Class', 'Census Sampling Weight', 'Education',\n",
    "                     'Education-numeric', 'Marital Status', 'Occupation', 'Relationship',\n",
    "                     'Race', 'Sex', 'Capital Gain', 'Capital Loss', 'Hours per week',\n",
    "                     'Native Country', '50k']\n",
    "df_adults.head(10)"
   ]
  },
  {
   "cell_type": "markdown",
   "metadata": {},
   "source": [
    "We'll use the Education-numeric field over Education because it assigns an intuitive weight to each education level already."
   ]
  },
  {
   "cell_type": "code",
   "execution_count": 3,
   "metadata": {
    "collapsed": true
   },
   "outputs": [],
   "source": [
    "del df_adults['Education']"
   ]
  },
  {
   "cell_type": "code",
   "execution_count": 4,
   "metadata": {
    "collapsed": false
   },
   "outputs": [
    {
     "data": {
      "text/plain": [
       "Age                        int64\n",
       "Work Class                object\n",
       "Census Sampling Weight     int64\n",
       "Education-numeric          int64\n",
       "Marital Status            object\n",
       "Occupation                object\n",
       "Relationship              object\n",
       "Race                      object\n",
       "Sex                       object\n",
       "Capital Gain               int64\n",
       "Capital Loss               int64\n",
       "Hours per week             int64\n",
       "Native Country            object\n",
       "50k                       object\n",
       "dtype: object"
      ]
     },
     "execution_count": 4,
     "metadata": {},
     "output_type": "execute_result"
    }
   ],
   "source": [
    "df_adults.dtypes"
   ]
  },
  {
   "cell_type": "markdown",
   "metadata": {},
   "source": [
    "We also need to encode our class label field."
   ]
  },
  {
   "cell_type": "code",
   "execution_count": 5,
   "metadata": {
    "collapsed": false
   },
   "outputs": [
    {
     "data": {
      "text/html": [
       "<div>\n",
       "<table border=\"1\" class=\"dataframe\">\n",
       "  <thead>\n",
       "    <tr style=\"text-align: right;\">\n",
       "      <th></th>\n",
       "      <th>Age</th>\n",
       "      <th>Work Class</th>\n",
       "      <th>Census Sampling Weight</th>\n",
       "      <th>Education-numeric</th>\n",
       "      <th>Marital Status</th>\n",
       "      <th>Occupation</th>\n",
       "      <th>Relationship</th>\n",
       "      <th>Race</th>\n",
       "      <th>Sex</th>\n",
       "      <th>Capital Gain</th>\n",
       "      <th>Capital Loss</th>\n",
       "      <th>Hours per week</th>\n",
       "      <th>Native Country</th>\n",
       "      <th>50k</th>\n",
       "    </tr>\n",
       "  </thead>\n",
       "  <tbody>\n",
       "    <tr>\n",
       "      <th>0</th>\n",
       "      <td>50</td>\n",
       "      <td>Self-emp-not-inc</td>\n",
       "      <td>83311</td>\n",
       "      <td>13</td>\n",
       "      <td>Married-civ-spouse</td>\n",
       "      <td>Exec-managerial</td>\n",
       "      <td>Husband</td>\n",
       "      <td>White</td>\n",
       "      <td>Male</td>\n",
       "      <td>0</td>\n",
       "      <td>0</td>\n",
       "      <td>13</td>\n",
       "      <td>United-States</td>\n",
       "      <td>0</td>\n",
       "    </tr>\n",
       "    <tr>\n",
       "      <th>1</th>\n",
       "      <td>38</td>\n",
       "      <td>Private</td>\n",
       "      <td>215646</td>\n",
       "      <td>9</td>\n",
       "      <td>Divorced</td>\n",
       "      <td>Handlers-cleaners</td>\n",
       "      <td>Not-in-family</td>\n",
       "      <td>White</td>\n",
       "      <td>Male</td>\n",
       "      <td>0</td>\n",
       "      <td>0</td>\n",
       "      <td>40</td>\n",
       "      <td>United-States</td>\n",
       "      <td>0</td>\n",
       "    </tr>\n",
       "    <tr>\n",
       "      <th>2</th>\n",
       "      <td>53</td>\n",
       "      <td>Private</td>\n",
       "      <td>234721</td>\n",
       "      <td>7</td>\n",
       "      <td>Married-civ-spouse</td>\n",
       "      <td>Handlers-cleaners</td>\n",
       "      <td>Husband</td>\n",
       "      <td>Black</td>\n",
       "      <td>Male</td>\n",
       "      <td>0</td>\n",
       "      <td>0</td>\n",
       "      <td>40</td>\n",
       "      <td>United-States</td>\n",
       "      <td>0</td>\n",
       "    </tr>\n",
       "    <tr>\n",
       "      <th>3</th>\n",
       "      <td>28</td>\n",
       "      <td>Private</td>\n",
       "      <td>338409</td>\n",
       "      <td>13</td>\n",
       "      <td>Married-civ-spouse</td>\n",
       "      <td>Prof-specialty</td>\n",
       "      <td>Wife</td>\n",
       "      <td>Black</td>\n",
       "      <td>Female</td>\n",
       "      <td>0</td>\n",
       "      <td>0</td>\n",
       "      <td>40</td>\n",
       "      <td>Cuba</td>\n",
       "      <td>0</td>\n",
       "    </tr>\n",
       "    <tr>\n",
       "      <th>4</th>\n",
       "      <td>37</td>\n",
       "      <td>Private</td>\n",
       "      <td>284582</td>\n",
       "      <td>14</td>\n",
       "      <td>Married-civ-spouse</td>\n",
       "      <td>Exec-managerial</td>\n",
       "      <td>Wife</td>\n",
       "      <td>White</td>\n",
       "      <td>Female</td>\n",
       "      <td>0</td>\n",
       "      <td>0</td>\n",
       "      <td>40</td>\n",
       "      <td>United-States</td>\n",
       "      <td>0</td>\n",
       "    </tr>\n",
       "    <tr>\n",
       "      <th>5</th>\n",
       "      <td>49</td>\n",
       "      <td>Private</td>\n",
       "      <td>160187</td>\n",
       "      <td>5</td>\n",
       "      <td>Married-spouse-absent</td>\n",
       "      <td>Other-service</td>\n",
       "      <td>Not-in-family</td>\n",
       "      <td>Black</td>\n",
       "      <td>Female</td>\n",
       "      <td>0</td>\n",
       "      <td>0</td>\n",
       "      <td>16</td>\n",
       "      <td>Jamaica</td>\n",
       "      <td>0</td>\n",
       "    </tr>\n",
       "    <tr>\n",
       "      <th>6</th>\n",
       "      <td>52</td>\n",
       "      <td>Self-emp-not-inc</td>\n",
       "      <td>209642</td>\n",
       "      <td>9</td>\n",
       "      <td>Married-civ-spouse</td>\n",
       "      <td>Exec-managerial</td>\n",
       "      <td>Husband</td>\n",
       "      <td>White</td>\n",
       "      <td>Male</td>\n",
       "      <td>0</td>\n",
       "      <td>0</td>\n",
       "      <td>45</td>\n",
       "      <td>United-States</td>\n",
       "      <td>1</td>\n",
       "    </tr>\n",
       "    <tr>\n",
       "      <th>7</th>\n",
       "      <td>31</td>\n",
       "      <td>Private</td>\n",
       "      <td>45781</td>\n",
       "      <td>14</td>\n",
       "      <td>Never-married</td>\n",
       "      <td>Prof-specialty</td>\n",
       "      <td>Not-in-family</td>\n",
       "      <td>White</td>\n",
       "      <td>Female</td>\n",
       "      <td>14084</td>\n",
       "      <td>0</td>\n",
       "      <td>50</td>\n",
       "      <td>United-States</td>\n",
       "      <td>1</td>\n",
       "    </tr>\n",
       "    <tr>\n",
       "      <th>8</th>\n",
       "      <td>42</td>\n",
       "      <td>Private</td>\n",
       "      <td>159449</td>\n",
       "      <td>13</td>\n",
       "      <td>Married-civ-spouse</td>\n",
       "      <td>Exec-managerial</td>\n",
       "      <td>Husband</td>\n",
       "      <td>White</td>\n",
       "      <td>Male</td>\n",
       "      <td>5178</td>\n",
       "      <td>0</td>\n",
       "      <td>40</td>\n",
       "      <td>United-States</td>\n",
       "      <td>1</td>\n",
       "    </tr>\n",
       "    <tr>\n",
       "      <th>9</th>\n",
       "      <td>37</td>\n",
       "      <td>Private</td>\n",
       "      <td>280464</td>\n",
       "      <td>10</td>\n",
       "      <td>Married-civ-spouse</td>\n",
       "      <td>Exec-managerial</td>\n",
       "      <td>Husband</td>\n",
       "      <td>Black</td>\n",
       "      <td>Male</td>\n",
       "      <td>0</td>\n",
       "      <td>0</td>\n",
       "      <td>80</td>\n",
       "      <td>United-States</td>\n",
       "      <td>1</td>\n",
       "    </tr>\n",
       "  </tbody>\n",
       "</table>\n",
       "</div>"
      ],
      "text/plain": [
       "   Age         Work Class  Census Sampling Weight  Education-numeric  \\\n",
       "0   50   Self-emp-not-inc                   83311                 13   \n",
       "1   38            Private                  215646                  9   \n",
       "2   53            Private                  234721                  7   \n",
       "3   28            Private                  338409                 13   \n",
       "4   37            Private                  284582                 14   \n",
       "5   49            Private                  160187                  5   \n",
       "6   52   Self-emp-not-inc                  209642                  9   \n",
       "7   31            Private                   45781                 14   \n",
       "8   42            Private                  159449                 13   \n",
       "9   37            Private                  280464                 10   \n",
       "\n",
       "           Marital Status          Occupation    Relationship    Race  \\\n",
       "0      Married-civ-spouse     Exec-managerial         Husband   White   \n",
       "1                Divorced   Handlers-cleaners   Not-in-family   White   \n",
       "2      Married-civ-spouse   Handlers-cleaners         Husband   Black   \n",
       "3      Married-civ-spouse      Prof-specialty            Wife   Black   \n",
       "4      Married-civ-spouse     Exec-managerial            Wife   White   \n",
       "5   Married-spouse-absent       Other-service   Not-in-family   Black   \n",
       "6      Married-civ-spouse     Exec-managerial         Husband   White   \n",
       "7           Never-married      Prof-specialty   Not-in-family   White   \n",
       "8      Married-civ-spouse     Exec-managerial         Husband   White   \n",
       "9      Married-civ-spouse     Exec-managerial         Husband   Black   \n",
       "\n",
       "       Sex  Capital Gain  Capital Loss  Hours per week  Native Country  50k  \n",
       "0     Male             0             0              13   United-States    0  \n",
       "1     Male             0             0              40   United-States    0  \n",
       "2     Male             0             0              40   United-States    0  \n",
       "3   Female             0             0              40            Cuba    0  \n",
       "4   Female             0             0              40   United-States    0  \n",
       "5   Female             0             0              16         Jamaica    0  \n",
       "6     Male             0             0              45   United-States    1  \n",
       "7   Female         14084             0              50   United-States    1  \n",
       "8     Male          5178             0              40   United-States    1  \n",
       "9     Male             0             0              80   United-States    1  "
      ]
     },
     "execution_count": 5,
     "metadata": {},
     "output_type": "execute_result"
    }
   ],
   "source": [
    "from sklearn.preprocessing import LabelEncoder\n",
    "\n",
    "le = LabelEncoder()\n",
    "df_adults['50k'] = le.fit_transform(df_adults['50k'].values.ravel())\n",
    "df_adults.head(10)"
   ]
  },
  {
   "cell_type": "code",
   "execution_count": 6,
   "metadata": {
    "collapsed": false
   },
   "outputs": [
    {
     "data": {
      "text/plain": [
       "array([' <=50K', ' >50K'], dtype=object)"
      ]
     },
     "execution_count": 6,
     "metadata": {},
     "output_type": "execute_result"
    }
   ],
   "source": [
    "le.classes_"
   ]
  },
  {
   "cell_type": "code",
   "execution_count": 7,
   "metadata": {
    "collapsed": false
   },
   "outputs": [
    {
     "data": {
      "text/plain": [
       "False"
      ]
     },
     "execution_count": 7,
     "metadata": {},
     "output_type": "execute_result"
    }
   ],
   "source": [
    "df_adults.isnull().values.any()"
   ]
  },
  {
   "cell_type": "code",
   "execution_count": 8,
   "metadata": {
    "collapsed": false
   },
   "outputs": [
    {
     "data": {
      "text/plain": [
       "False"
      ]
     },
     "execution_count": 8,
     "metadata": {},
     "output_type": "execute_result"
    }
   ],
   "source": [
    "df_adults.loc[df_adults['Education-numeric']==0].values.any()"
   ]
  },
  {
   "cell_type": "markdown",
   "metadata": {},
   "source": [
    "Let's see how unbalanced our data set is."
   ]
  },
  {
   "cell_type": "code",
   "execution_count": 9,
   "metadata": {
    "collapsed": false
   },
   "outputs": [
    {
     "name": "stdout",
     "output_type": "stream",
     "text": [
      "People making less than 50k account for 75.92% of the dataset\n",
      "People making more than 50k account for 24.08% of the dataset\n"
     ]
    }
   ],
   "source": [
    "num_0 = len(df_adults.loc[df_adults['50k']==0])\n",
    "num_1 = len(df_adults.loc[df_adults['50k']==1])\n",
    "\n",
    "print('People making less than 50k account for {0:0.2f}% of the dataset'.format((num_0/len(df_adults['50k'].values))*100))\n",
    "print('People making more than 50k account for {0:0.2f}% of the dataset'.format((num_1/len(df_adults['50k'].values))*100))"
   ]
  },
  {
   "cell_type": "markdown",
   "metadata": {},
   "source": [
    "The data isn't terribly imbalanced but we may find more success with setting the hyperparameters for regressors to be balanced."
   ]
  },
  {
   "cell_type": "code",
   "execution_count": 10,
   "metadata": {
    "collapsed": false
   },
   "outputs": [
    {
     "data": {
      "text/html": [
       "<div>\n",
       "<table border=\"1\" class=\"dataframe\">\n",
       "  <thead>\n",
       "    <tr style=\"text-align: right;\">\n",
       "      <th></th>\n",
       "      <th>Age</th>\n",
       "      <th>Work Class</th>\n",
       "      <th>Census Sampling Weight</th>\n",
       "      <th>Education-numeric</th>\n",
       "      <th>Marital Status</th>\n",
       "      <th>Occupation</th>\n",
       "      <th>Relationship</th>\n",
       "      <th>Race</th>\n",
       "      <th>Sex</th>\n",
       "      <th>Capital Gain</th>\n",
       "      <th>Capital Loss</th>\n",
       "      <th>Hours per week</th>\n",
       "      <th>Native Country</th>\n",
       "      <th>50k</th>\n",
       "    </tr>\n",
       "  </thead>\n",
       "  <tbody>\n",
       "    <tr>\n",
       "      <th>0</th>\n",
       "      <td>50</td>\n",
       "      <td>Self-emp-not-inc</td>\n",
       "      <td>83311</td>\n",
       "      <td>13</td>\n",
       "      <td>Married-civ-spouse</td>\n",
       "      <td>Exec-managerial</td>\n",
       "      <td>Husband</td>\n",
       "      <td>White</td>\n",
       "      <td>Male</td>\n",
       "      <td>0</td>\n",
       "      <td>0</td>\n",
       "      <td>13</td>\n",
       "      <td>United-States</td>\n",
       "      <td>0</td>\n",
       "    </tr>\n",
       "    <tr>\n",
       "      <th>1</th>\n",
       "      <td>38</td>\n",
       "      <td>Private</td>\n",
       "      <td>215646</td>\n",
       "      <td>9</td>\n",
       "      <td>Divorced</td>\n",
       "      <td>Handlers-cleaners</td>\n",
       "      <td>Not-in-family</td>\n",
       "      <td>White</td>\n",
       "      <td>Male</td>\n",
       "      <td>0</td>\n",
       "      <td>0</td>\n",
       "      <td>40</td>\n",
       "      <td>United-States</td>\n",
       "      <td>0</td>\n",
       "    </tr>\n",
       "    <tr>\n",
       "      <th>2</th>\n",
       "      <td>53</td>\n",
       "      <td>Private</td>\n",
       "      <td>234721</td>\n",
       "      <td>7</td>\n",
       "      <td>Married-civ-spouse</td>\n",
       "      <td>Handlers-cleaners</td>\n",
       "      <td>Husband</td>\n",
       "      <td>Black</td>\n",
       "      <td>Male</td>\n",
       "      <td>0</td>\n",
       "      <td>0</td>\n",
       "      <td>40</td>\n",
       "      <td>United-States</td>\n",
       "      <td>0</td>\n",
       "    </tr>\n",
       "    <tr>\n",
       "      <th>3</th>\n",
       "      <td>28</td>\n",
       "      <td>Private</td>\n",
       "      <td>338409</td>\n",
       "      <td>13</td>\n",
       "      <td>Married-civ-spouse</td>\n",
       "      <td>Prof-specialty</td>\n",
       "      <td>Wife</td>\n",
       "      <td>Black</td>\n",
       "      <td>Female</td>\n",
       "      <td>0</td>\n",
       "      <td>0</td>\n",
       "      <td>40</td>\n",
       "      <td>Cuba</td>\n",
       "      <td>0</td>\n",
       "    </tr>\n",
       "    <tr>\n",
       "      <th>4</th>\n",
       "      <td>37</td>\n",
       "      <td>Private</td>\n",
       "      <td>284582</td>\n",
       "      <td>14</td>\n",
       "      <td>Married-civ-spouse</td>\n",
       "      <td>Exec-managerial</td>\n",
       "      <td>Wife</td>\n",
       "      <td>White</td>\n",
       "      <td>Female</td>\n",
       "      <td>0</td>\n",
       "      <td>0</td>\n",
       "      <td>40</td>\n",
       "      <td>United-States</td>\n",
       "      <td>0</td>\n",
       "    </tr>\n",
       "  </tbody>\n",
       "</table>\n",
       "</div>"
      ],
      "text/plain": [
       "   Age         Work Class  Census Sampling Weight  Education-numeric  \\\n",
       "0   50   Self-emp-not-inc                   83311                 13   \n",
       "1   38            Private                  215646                  9   \n",
       "2   53            Private                  234721                  7   \n",
       "3   28            Private                  338409                 13   \n",
       "4   37            Private                  284582                 14   \n",
       "\n",
       "        Marital Status          Occupation    Relationship    Race      Sex  \\\n",
       "0   Married-civ-spouse     Exec-managerial         Husband   White     Male   \n",
       "1             Divorced   Handlers-cleaners   Not-in-family   White     Male   \n",
       "2   Married-civ-spouse   Handlers-cleaners         Husband   Black     Male   \n",
       "3   Married-civ-spouse      Prof-specialty            Wife   Black   Female   \n",
       "4   Married-civ-spouse     Exec-managerial            Wife   White   Female   \n",
       "\n",
       "   Capital Gain  Capital Loss  Hours per week  Native Country  50k  \n",
       "0             0             0              13   United-States    0  \n",
       "1             0             0              40   United-States    0  \n",
       "2             0             0              40   United-States    0  \n",
       "3             0             0              40            Cuba    0  \n",
       "4             0             0              40   United-States    0  "
      ]
     },
     "execution_count": 10,
     "metadata": {},
     "output_type": "execute_result"
    }
   ],
   "source": [
    "df_adults.head()"
   ]
  },
  {
   "cell_type": "code",
   "execution_count": 11,
   "metadata": {
    "collapsed": false
   },
   "outputs": [],
   "source": [
    "df_adults = pd.get_dummies(df_adults)"
   ]
  },
  {
   "cell_type": "code",
   "execution_count": 12,
   "metadata": {
    "collapsed": false
   },
   "outputs": [
    {
     "data": {
      "text/plain": [
       "Index(['Age', 'Census Sampling Weight', 'Education-numeric', 'Capital Gain',\n",
       "       'Capital Loss', 'Hours per week', '50k', 'Work Class_ ?',\n",
       "       'Work Class_ Federal-gov', 'Work Class_ Local-gov',\n",
       "       'Work Class_ Never-worked', 'Work Class_ Private',\n",
       "       'Work Class_ Self-emp-inc', 'Work Class_ Self-emp-not-inc',\n",
       "       'Work Class_ State-gov', 'Work Class_ Without-pay',\n",
       "       'Marital Status_ Divorced', 'Marital Status_ Married-AF-spouse',\n",
       "       'Marital Status_ Married-civ-spouse',\n",
       "       'Marital Status_ Married-spouse-absent',\n",
       "       'Marital Status_ Never-married', 'Marital Status_ Separated',\n",
       "       'Marital Status_ Widowed', 'Occupation_ ?', 'Occupation_ Adm-clerical',\n",
       "       'Occupation_ Armed-Forces', 'Occupation_ Craft-repair',\n",
       "       'Occupation_ Exec-managerial', 'Occupation_ Farming-fishing',\n",
       "       'Occupation_ Handlers-cleaners', 'Occupation_ Machine-op-inspct',\n",
       "       'Occupation_ Other-service', 'Occupation_ Priv-house-serv',\n",
       "       'Occupation_ Prof-specialty', 'Occupation_ Protective-serv',\n",
       "       'Occupation_ Sales', 'Occupation_ Tech-support',\n",
       "       'Occupation_ Transport-moving', 'Relationship_ Husband',\n",
       "       'Relationship_ Not-in-family', 'Relationship_ Other-relative',\n",
       "       'Relationship_ Own-child', 'Relationship_ Unmarried',\n",
       "       'Relationship_ Wife', 'Race_ Amer-Indian-Eskimo',\n",
       "       'Race_ Asian-Pac-Islander', 'Race_ Black', 'Race_ Other', 'Race_ White',\n",
       "       'Sex_ Female', 'Sex_ Male', 'Native Country_ ?',\n",
       "       'Native Country_ Cambodia', 'Native Country_ Canada',\n",
       "       'Native Country_ China', 'Native Country_ Columbia',\n",
       "       'Native Country_ Cuba', 'Native Country_ Dominican-Republic',\n",
       "       'Native Country_ Ecuador', 'Native Country_ El-Salvador',\n",
       "       'Native Country_ England', 'Native Country_ France',\n",
       "       'Native Country_ Germany', 'Native Country_ Greece',\n",
       "       'Native Country_ Guatemala', 'Native Country_ Haiti',\n",
       "       'Native Country_ Holand-Netherlands', 'Native Country_ Honduras',\n",
       "       'Native Country_ Hong', 'Native Country_ Hungary',\n",
       "       'Native Country_ India', 'Native Country_ Iran',\n",
       "       'Native Country_ Ireland', 'Native Country_ Italy',\n",
       "       'Native Country_ Jamaica', 'Native Country_ Japan',\n",
       "       'Native Country_ Laos', 'Native Country_ Mexico',\n",
       "       'Native Country_ Nicaragua',\n",
       "       'Native Country_ Outlying-US(Guam-USVI-etc)', 'Native Country_ Peru',\n",
       "       'Native Country_ Philippines', 'Native Country_ Poland',\n",
       "       'Native Country_ Portugal', 'Native Country_ Puerto-Rico',\n",
       "       'Native Country_ Scotland', 'Native Country_ South',\n",
       "       'Native Country_ Taiwan', 'Native Country_ Thailand',\n",
       "       'Native Country_ Trinadad&Tobago', 'Native Country_ United-States',\n",
       "       'Native Country_ Vietnam', 'Native Country_ Yugoslavia'],\n",
       "      dtype='object')"
      ]
     },
     "execution_count": 12,
     "metadata": {},
     "output_type": "execute_result"
    }
   ],
   "source": [
    "df_adults.columns"
   ]
  },
  {
   "cell_type": "code",
   "execution_count": 13,
   "metadata": {
    "collapsed": false
   },
   "outputs": [
    {
     "data": {
      "text/plain": [
       "(32560, 93)"
      ]
     },
     "execution_count": 13,
     "metadata": {},
     "output_type": "execute_result"
    }
   ],
   "source": [
    "df_adults.shape"
   ]
  },
  {
   "cell_type": "code",
   "execution_count": 14,
   "metadata": {
    "collapsed": false
   },
   "outputs": [],
   "source": [
    "def plot_corr (df, size=12) :\n",
    "    \"\"\"\n",
    "    Function plots a graphical correlation matrix for each pair of columns in the dataframe.\n",
    "    \n",
    "    Input:\n",
    "        df: pandas Dataframe\n",
    "        size: vertical and horizontal style of the plot\n",
    "        \n",
    "        Displays:\n",
    "            matrix of correlation between columns. purple-blue-lightgreen-yellow => less to more correlated\n",
    "                                                    0 --------------------> 1\n",
    "                                            Expect a darkred line running from top left to bottom right\n",
    "    \"\"\"\n",
    "    \n",
    "    corr = df.corr()       # data frame correlation function\n",
    "    \n",
    "    plt.style.use('dark_background')\n",
    "    \n",
    "    fig, ax = plt.subplots(figsize=(size, size))\n",
    "    ax.matshow(corr)      # color code the rectangles by correlation value\n",
    "    plt.xticks(range(len(corr.columns)), corr.columns)\n",
    "    plt.yticks(range(len(corr.columns)), corr.columns)\n",
    "    \n",
    "    plt.show()"
   ]
  },
  {
   "cell_type": "code",
   "execution_count": 15,
   "metadata": {
    "collapsed": false
   },
   "outputs": [
    {
     "data": {
      "image/png": "[encoded data removed]",
      "text/plain": [
       "<matplotlib.figure.Figure at 0x1fd56255a90>"
      ]
     },
     "metadata": {},
     "output_type": "display_data"
    }
   ],
   "source": [
    "plot_corr(df_adults)"
   ]
  },
  {
   "cell_type": "code",
   "execution_count": 16,
   "metadata": {
    "collapsed": false
   },
   "outputs": [
    {
     "data": {
      "text/plain": [
       "array(['Marital Status_ Married-civ-spouse', 'Relationship_ Husband'], dtype=object)"
      ]
     },
     "execution_count": 16,
     "metadata": {},
     "output_type": "execute_result"
    }
   ],
   "source": [
    "corr_mat = df_adults.corr()\n",
    "test = corr_mat.where(corr_mat['Relationship_ Husband'] >= .8).dropna()\n",
    "test.index.values"
   ]
  },
  {
   "cell_type": "code",
   "execution_count": 17,
   "metadata": {
    "collapsed": true
   },
   "outputs": [],
   "source": [
    "def redundancy_finder(df, cutoff=0.8):\n",
    "    correlated_vars = []\n",
    "    corr_mat = df.corr()\n",
    "    for column in corr_mat.columns:\n",
    "        test = corr_mat.where(corr_mat[column] >= .8).dropna()\n",
    "        var1 = test.index.tolist()\n",
    "        var1.remove(column)\n",
    "        if var1 != []:\n",
    "            values = [corr_mat[column][var1] for var in var1]\n",
    "            col = [column for i in range(len(var1))]\n",
    "            correlated_vars.append(zip(col, var1, values))\n",
    "    return correlated_vars"
   ]
  },
  {
   "cell_type": "code",
   "execution_count": 18,
   "metadata": {
    "collapsed": false
   },
   "outputs": [
    {
     "name": "stdout",
     "output_type": "stream",
     "text": [
      "[('Work Class_ ?', 'Occupation_ ?', Occupation_ ?    0.997985\n",
      "Name: Work Class_ ?, dtype: float64)]\n",
      "[('Marital Status_ Married-civ-spouse', 'Relationship_ Husband', Relationship_ Husband    0.893208\n",
      "Name: Marital Status_ Married-civ-spouse, dtype: float64)]\n",
      "[('Occupation_ ?', 'Work Class_ ?', Work Class_ ?    0.997985\n",
      "Name: Occupation_ ?, dtype: float64)]\n",
      "[('Relationship_ Husband', 'Marital Status_ Married-civ-spouse', Marital Status_ Married-civ-spouse    0.893208\n",
      "Name: Relationship_ Husband, dtype: float64)]\n"
     ]
    }
   ],
   "source": [
    "for zip_obj in redundancy_finder(df_adults):\n",
    "    print(list(zip_obj))"
   ]
  },
  {
   "cell_type": "code",
   "execution_count": 19,
   "metadata": {
    "collapsed": true
   },
   "outputs": [],
   "source": [
    "del df_adults['Occupation_ ?']\n",
    "del df_adults['Relationship_ Husband']"
   ]
  },
  {
   "cell_type": "code",
   "execution_count": 20,
   "metadata": {
    "collapsed": false
   },
   "outputs": [
    {
     "data": {
      "text/html": [
       "<div>\n",
       "<table border=\"1\" class=\"dataframe\">\n",
       "  <thead>\n",
       "    <tr style=\"text-align: right;\">\n",
       "      <th></th>\n",
       "      <th>Age</th>\n",
       "      <th>Census Sampling Weight</th>\n",
       "      <th>Education-numeric</th>\n",
       "      <th>Capital Gain</th>\n",
       "      <th>Capital Loss</th>\n",
       "      <th>Hours per week</th>\n",
       "      <th>50k</th>\n",
       "      <th>Work Class_ ?</th>\n",
       "      <th>Work Class_ Federal-gov</th>\n",
       "      <th>Work Class_ Local-gov</th>\n",
       "      <th>...</th>\n",
       "      <th>Native Country_ Portugal</th>\n",
       "      <th>Native Country_ Puerto-Rico</th>\n",
       "      <th>Native Country_ Scotland</th>\n",
       "      <th>Native Country_ South</th>\n",
       "      <th>Native Country_ Taiwan</th>\n",
       "      <th>Native Country_ Thailand</th>\n",
       "      <th>Native Country_ Trinadad&amp;Tobago</th>\n",
       "      <th>Native Country_ United-States</th>\n",
       "      <th>Native Country_ Vietnam</th>\n",
       "      <th>Native Country_ Yugoslavia</th>\n",
       "    </tr>\n",
       "  </thead>\n",
       "  <tbody>\n",
       "    <tr>\n",
       "      <th>0</th>\n",
       "      <td>50</td>\n",
       "      <td>83311</td>\n",
       "      <td>13</td>\n",
       "      <td>0</td>\n",
       "      <td>0</td>\n",
       "      <td>13</td>\n",
       "      <td>0</td>\n",
       "      <td>0</td>\n",
       "      <td>0</td>\n",
       "      <td>0</td>\n",
       "      <td>...</td>\n",
       "      <td>0</td>\n",
       "      <td>0</td>\n",
       "      <td>0</td>\n",
       "      <td>0</td>\n",
       "      <td>0</td>\n",
       "      <td>0</td>\n",
       "      <td>0</td>\n",
       "      <td>1</td>\n",
       "      <td>0</td>\n",
       "      <td>0</td>\n",
       "    </tr>\n",
       "    <tr>\n",
       "      <th>1</th>\n",
       "      <td>38</td>\n",
       "      <td>215646</td>\n",
       "      <td>9</td>\n",
       "      <td>0</td>\n",
       "      <td>0</td>\n",
       "      <td>40</td>\n",
       "      <td>0</td>\n",
       "      <td>0</td>\n",
       "      <td>0</td>\n",
       "      <td>0</td>\n",
       "      <td>...</td>\n",
       "      <td>0</td>\n",
       "      <td>0</td>\n",
       "      <td>0</td>\n",
       "      <td>0</td>\n",
       "      <td>0</td>\n",
       "      <td>0</td>\n",
       "      <td>0</td>\n",
       "      <td>1</td>\n",
       "      <td>0</td>\n",
       "      <td>0</td>\n",
       "    </tr>\n",
       "    <tr>\n",
       "      <th>2</th>\n",
       "      <td>53</td>\n",
       "      <td>234721</td>\n",
       "      <td>7</td>\n",
       "      <td>0</td>\n",
       "      <td>0</td>\n",
       "      <td>40</td>\n",
       "      <td>0</td>\n",
       "      <td>0</td>\n",
       "      <td>0</td>\n",
       "      <td>0</td>\n",
       "      <td>...</td>\n",
       "      <td>0</td>\n",
       "      <td>0</td>\n",
       "      <td>0</td>\n",
       "      <td>0</td>\n",
       "      <td>0</td>\n",
       "      <td>0</td>\n",
       "      <td>0</td>\n",
       "      <td>1</td>\n",
       "      <td>0</td>\n",
       "      <td>0</td>\n",
       "    </tr>\n",
       "    <tr>\n",
       "      <th>3</th>\n",
       "      <td>28</td>\n",
       "      <td>338409</td>\n",
       "      <td>13</td>\n",
       "      <td>0</td>\n",
       "      <td>0</td>\n",
       "      <td>40</td>\n",
       "      <td>0</td>\n",
       "      <td>0</td>\n",
       "      <td>0</td>\n",
       "      <td>0</td>\n",
       "      <td>...</td>\n",
       "      <td>0</td>\n",
       "      <td>0</td>\n",
       "      <td>0</td>\n",
       "      <td>0</td>\n",
       "      <td>0</td>\n",
       "      <td>0</td>\n",
       "      <td>0</td>\n",
       "      <td>0</td>\n",
       "      <td>0</td>\n",
       "      <td>0</td>\n",
       "    </tr>\n",
       "    <tr>\n",
       "      <th>4</th>\n",
       "      <td>37</td>\n",
       "      <td>284582</td>\n",
       "      <td>14</td>\n",
       "      <td>0</td>\n",
       "      <td>0</td>\n",
       "      <td>40</td>\n",
       "      <td>0</td>\n",
       "      <td>0</td>\n",
       "      <td>0</td>\n",
       "      <td>0</td>\n",
       "      <td>...</td>\n",
       "      <td>0</td>\n",
       "      <td>0</td>\n",
       "      <td>0</td>\n",
       "      <td>0</td>\n",
       "      <td>0</td>\n",
       "      <td>0</td>\n",
       "      <td>0</td>\n",
       "      <td>1</td>\n",
       "      <td>0</td>\n",
       "      <td>0</td>\n",
       "    </tr>\n",
       "  </tbody>\n",
       "</table>\n",
       "<p>5 rows × 91 columns</p>\n",
       "</div>"
      ],
      "text/plain": [
       "   Age  Census Sampling Weight  Education-numeric  Capital Gain  Capital Loss  \\\n",
       "0   50                   83311                 13             0             0   \n",
       "1   38                  215646                  9             0             0   \n",
       "2   53                  234721                  7             0             0   \n",
       "3   28                  338409                 13             0             0   \n",
       "4   37                  284582                 14             0             0   \n",
       "\n",
       "   Hours per week  50k  Work Class_ ?  Work Class_ Federal-gov  \\\n",
       "0              13    0              0                        0   \n",
       "1              40    0              0                        0   \n",
       "2              40    0              0                        0   \n",
       "3              40    0              0                        0   \n",
       "4              40    0              0                        0   \n",
       "\n",
       "   Work Class_ Local-gov             ...              \\\n",
       "0                      0             ...               \n",
       "1                      0             ...               \n",
       "2                      0             ...               \n",
       "3                      0             ...               \n",
       "4                      0             ...               \n",
       "\n",
       "   Native Country_ Portugal  Native Country_ Puerto-Rico  \\\n",
       "0                         0                            0   \n",
       "1                         0                            0   \n",
       "2                         0                            0   \n",
       "3                         0                            0   \n",
       "4                         0                            0   \n",
       "\n",
       "   Native Country_ Scotland  Native Country_ South  Native Country_ Taiwan  \\\n",
       "0                         0                      0                       0   \n",
       "1                         0                      0                       0   \n",
       "2                         0                      0                       0   \n",
       "3                         0                      0                       0   \n",
       "4                         0                      0                       0   \n",
       "\n",
       "   Native Country_ Thailand  Native Country_ Trinadad&Tobago  \\\n",
       "0                         0                                0   \n",
       "1                         0                                0   \n",
       "2                         0                                0   \n",
       "3                         0                                0   \n",
       "4                         0                                0   \n",
       "\n",
       "   Native Country_ United-States  Native Country_ Vietnam  \\\n",
       "0                              1                        0   \n",
       "1                              1                        0   \n",
       "2                              1                        0   \n",
       "3                              0                        0   \n",
       "4                              1                        0   \n",
       "\n",
       "   Native Country_ Yugoslavia  \n",
       "0                           0  \n",
       "1                           0  \n",
       "2                           0  \n",
       "3                           0  \n",
       "4                           0  \n",
       "\n",
       "[5 rows x 91 columns]"
      ]
     },
     "execution_count": 20,
     "metadata": {},
     "output_type": "execute_result"
    }
   ],
   "source": [
    "df_adults.head()"
   ]
  },
  {
   "cell_type": "code",
   "execution_count": 21,
   "metadata": {
    "collapsed": false
   },
   "outputs": [],
   "source": [
    "names = list(df_adults.columns.values)\n",
    "names.remove('50k')\n",
    "\n",
    "X = df_adults[names].values\n",
    "y = df_adults['50k'].values"
   ]
  },
  {
   "cell_type": "code",
   "execution_count": 22,
   "metadata": {
    "collapsed": true
   },
   "outputs": [],
   "source": [
    "from sklearn.model_selection import train_test_split\n",
    "\n",
    "X_train, X_test, y_train, y_test = train_test_split(X, y, test_size=.3, random_state=42)"
   ]
  },
  {
   "cell_type": "markdown",
   "metadata": {},
   "source": [
    "Our data has been prepared. Now we can lay out a framework for algorithm testing."
   ]
  },
  {
   "cell_type": "markdown",
   "metadata": {},
   "source": [
    "## Algorithm Testing"
   ]
  },
  {
   "cell_type": "markdown",
   "metadata": {},
   "source": [
    "I'm going to go through the more common algorithms here. This can be expanded to implement whatever you want.\n",
    "\n",
    "The basic idea is to do cross-validation, grid search, plot roc curves, etc. all within a single instance. Thus, we get a single comprised view of how the data is doing. "
   ]
  },
  {
   "cell_type": "markdown",
   "metadata": {},
   "source": [
    "### Pipelines"
   ]
  },
  {
   "cell_type": "markdown",
   "metadata": {},
   "source": [
    "We'll define all of our algorithm pipelines here."
   ]
  },
  {
   "cell_type": "code",
   "execution_count": 23,
   "metadata": {
    "collapsed": true
   },
   "outputs": [],
   "source": [
    "from sklearn.pipeline import Pipeline"
   ]
  },
  {
   "cell_type": "markdown",
   "metadata": {},
   "source": [
    "#### Logistic Regression"
   ]
  },
  {
   "cell_type": "code",
   "execution_count": 24,
   "metadata": {
    "collapsed": false
   },
   "outputs": [],
   "source": [
    "names = []\n",
    "models = []\n",
    "grids = []\n",
    "\n",
    "from sklearn.linear_model import LogisticRegression\n",
    "\n",
    "lr = LogisticRegression(\n",
    "        penalty='l2',\n",
    "        random_state=777,\n",
    "        max_iter=10000,\n",
    "        fit_intercept=True,\n",
    "        solver='newton-cg',\n",
    "        class_weight='balanced',\n",
    "        tol=.1)\n",
    "\n",
    "from sklearn.preprocessing import StandardScaler\n",
    "\n",
    "sc = StandardScaler()\n",
    "\n",
    "lr_pipe = Pipeline([('scl', sc),\n",
    "                       ('clf', lr)])\n",
    "\n",
    "lr_grid = {'clf__C' : list(np.power(10.0, np.arange(-5, 5)))}\n",
    "\n",
    "names.append('Logistic Regression')\n",
    "models.append(lr_pipe)\n",
    "grids.append(lr_grid)"
   ]
  },
  {
   "cell_type": "markdown",
   "metadata": {},
   "source": [
    "#### Support Vector Classification"
   ]
  },
  {
   "cell_type": "code",
   "execution_count": 25,
   "metadata": {
    "collapsed": false
   },
   "outputs": [],
   "source": [
    "from sklearn.svm import LinearSVC\n",
    "from sklearn.model_selection import KFold\n",
    "\n",
    "svc = LinearSVC(\n",
    "    tol=0.1,\n",
    "    max_iter=10000,\n",
    "    penalty='l2',\n",
    "    dual=False)\n",
    "\n",
    "svc_pipe = Pipeline([('scl', sc),\n",
    "                     ('clf', svc),])\n",
    "\n",
    "svc_grid = {'clf__C' : list(np.power(10.0, np.arange(-5, 5)))}\n",
    "\n",
    "names.append('Support Vector Classifier')\n",
    "models.append(svc_pipe)\n",
    "grids.append(svc_grid)"
   ]
  },
  {
   "cell_type": "markdown",
   "metadata": {},
   "source": [
    "#### Naive Bayes Classifier"
   ]
  },
  {
   "cell_type": "code",
   "execution_count": 26,
   "metadata": {
    "collapsed": true
   },
   "outputs": [],
   "source": [
    "from sklearn.naive_bayes import GaussianNB\n",
    "\n",
    "gnb = GaussianNB()\n",
    "\n",
    "names.append('Naive Bayes Classifier')\n",
    "models.append(gnb)\n",
    "grids.append(None)"
   ]
  },
  {
   "cell_type": "markdown",
   "metadata": {},
   "source": [
    "#### Random Forest"
   ]
  },
  {
   "cell_type": "code",
   "execution_count": 27,
   "metadata": {
    "collapsed": false
   },
   "outputs": [],
   "source": [
    "from sklearn.ensemble import RandomForestClassifier\n",
    "\n",
    "forest = RandomForestClassifier(\n",
    "            n_jobs=-1,\n",
    "            random_state=42,\n",
    "            max_depth=None,\n",
    "            n_estimators=1000)\n",
    "\n",
    "forest_grid = {'max_features' : ['sqrt','log2',None],\n",
    "               'criterion' : ['gini', 'entropy']}\n",
    "\n",
    "names.append('Random Forest')\n",
    "models.append(forest)\n",
    "grids.append(forest_grid)"
   ]
  },
  {
   "cell_type": "markdown",
   "metadata": {},
   "source": [
    "### Grid Search"
   ]
  },
  {
   "cell_type": "markdown",
   "metadata": {},
   "source": [
    "Using all of our classifiers, we can implement a grid search to find the most optimal versions."
   ]
  },
  {
   "cell_type": "code",
   "execution_count": 28,
   "metadata": {
    "collapsed": false
   },
   "outputs": [
    {
     "name": "stderr",
     "output_type": "stream",
     "text": [
      "C:\\Users\\Tyler Hughes\\AppData\\Local\\Continuum\\Anaconda3\\lib\\site-packages\\sklearn\\utils\\validation.py:429: DataConversionWarning: Data with input dtype int64 was converted to float64 by StandardScaler.\n",
      "  warnings.warn(msg, _DataConversionWarning)\n"
     ]
    },
    {
     "name": "stdout",
     "output_type": "stream",
     "text": [
      "Logistic Regression: Best Parameters - {'clf__C': 0.10000000000000001}, Best ROC_AUC - 0.9061510915714805\n"
     ]
    },
    {
     "name": "stderr",
     "output_type": "stream",
     "text": [
      "C:\\Users\\Tyler Hughes\\AppData\\Local\\Continuum\\Anaconda3\\lib\\site-packages\\sklearn\\utils\\validation.py:429: DataConversionWarning: Data with input dtype int64 was converted to float64 by StandardScaler.\n",
      "  warnings.warn(msg, _DataConversionWarning)\n"
     ]
    },
    {
     "name": "stdout",
     "output_type": "stream",
     "text": [
      "Support Vector Classifier: Best Parameters - {'clf__C': 100.0}, Best ROC_AUC - 0.9059234867989177\n",
      "Naive Bayes Classifier: Mean ROC_AUC - 0.8301854637950958 +/- 0.009860879706590933\n",
      "Random Forest: Best Parameters - {'max_features': None, 'criterion': 'entropy'}, Best ROC_AUC - 0.9085075017836884\n"
     ]
    }
   ],
   "source": [
    "from sklearn.model_selection import GridSearchCV, cross_val_score\n",
    "\n",
    "tests = zip(names, models, grids)\n",
    "\n",
    "for name, model, grid in tests:\n",
    "    if grid != None:\n",
    "        gs = GridSearchCV(\n",
    "            estimator=model,\n",
    "            cv=10,\n",
    "            scoring='roc_auc',\n",
    "            param_grid=grid,\n",
    "            pre_dispatch=8,\n",
    "            n_jobs=-1)\n",
    "    \n",
    "        gs.fit(X_train, y_train.ravel())\n",
    "    \n",
    "        print('{0}: Best Parameters - {1}, Best ROC_AUC - {2}'.format(name,gs.best_params_,gs.best_score_))\n",
    "    \n",
    "    else:\n",
    "        scores = cross_val_score(estimator=model,\n",
    "                                 X=X_train,\n",
    "                                 y=y_train,\n",
    "                                 cv=10,\n",
    "                                 n_jobs=-1,\n",
    "                                 scoring='roc_auc')\n",
    "        \n",
    "        print('{0}: Mean ROC_AUC - {1} +/- {2}'.format(name,np.mean(scores),np.std(scores)))"
   ]
  },
  {
   "cell_type": "code",
   "execution_count": 33,
   "metadata": {
    "collapsed": false
   },
   "outputs": [
    {
     "name": "stderr",
     "output_type": "stream",
     "text": [
      "C:\\Users\\Tyler Hughes\\AppData\\Local\\Continuum\\Anaconda3\\lib\\site-packages\\sklearn\\utils\\validation.py:429: DataConversionWarning: Data with input dtype int64 was converted to float64 by StandardScaler.\n",
      "  warnings.warn(msg, _DataConversionWarning)\n"
     ]
    },
    {
     "name": "stdout",
     "output_type": "stream",
     "text": [
      "Logistic Regression Accuracy: 0.81\n"
     ]
    }
   ],
   "source": [
    "from sklearn.metrics import accuracy_score\n",
    "\n",
    "lr_optimal = LogisticRegression(\n",
    "                C=0.1,\n",
    "                class_weight='balanced', \n",
    "                dual=False,\n",
    "                fit_intercept=True, \n",
    "                intercept_scaling=1, \n",
    "                max_iter=10000,\n",
    "                multi_class='ovr', \n",
    "                n_jobs=1, \n",
    "                penalty='l2', \n",
    "                random_state=777,\n",
    "                solver='newton-cg', \n",
    "                tol=0.1, \n",
    "                verbose=0, \n",
    "                warm_start=False)\n",
    "\n",
    "lr_opt_pipe = Pipeline([('scl', sc),\n",
    "                        ('clf', lr_optimal)])\n",
    "\n",
    "lr_opt_pipe.fit(X_train, y_train)\n",
    "\n",
    "y_pred = lr_opt_pipe.predict(X_test)\n",
    "\n",
    "print('Logistic Regression Accuracy: {0:.2f}'.format(accuracy_score(y_test, y_pred)))"
   ]
  },
  {
   "cell_type": "code",
   "execution_count": 36,
   "metadata": {
    "collapsed": false
   },
   "outputs": [],
   "source": [
    "y_pred = gs.best_estimator_.predict(X_test)"
   ]
  },
  {
   "cell_type": "code",
   "execution_count": 37,
   "metadata": {
    "collapsed": false
   },
   "outputs": [
    {
     "name": "stdout",
     "output_type": "stream",
     "text": [
      "Accuracy: 0.86\n"
     ]
    }
   ],
   "source": [
    "print('Accuracy: {0:.2f}'.format(accuracy_score(y_test, y_pred)))"
   ]
  },
  {
   "cell_type": "code",
   "execution_count": 38,
   "metadata": {
    "collapsed": false
   },
   "outputs": [
    {
     "data": {
      "text/plain": [
       "RandomForestClassifier(bootstrap=True, class_weight=None, criterion='entropy',\n",
       "            max_depth=None, max_features=None, max_leaf_nodes=None,\n",
       "            min_impurity_split=1e-07, min_samples_leaf=1,\n",
       "            min_samples_split=2, min_weight_fraction_leaf=0.0,\n",
       "            n_estimators=1000, n_jobs=-1, oob_score=False, random_state=42,\n",
       "            verbose=0, warm_start=False)"
      ]
     },
     "execution_count": 38,
     "metadata": {},
     "output_type": "execute_result"
    }
   ],
   "source": [
    "gs.best_estimator_"
   ]
  },
  {
   "cell_type": "code",
   "execution_count": null,
   "metadata": {
    "collapsed": true
   },
   "outputs": [],
   "source": []
  }
 ],
 "metadata": {
  "anaconda-cloud": {},
  "kernelspec": {
   "display_name": "Python [conda root]",
   "language": "python",
   "name": "conda-root-py"
  },
  "language_info": {
   "codemirror_mode": {
    "name": "ipython",
    "version": 3
   },
   "file_extension": ".py",
   "mimetype": "text/x-python",
   "name": "python",
   "nbconvert_exporter": "python",
   "pygments_lexer": "ipython3",
   "version": "3.5.2"
  }
 },
 "nbformat": 4,
 "nbformat_minor": 1
}
